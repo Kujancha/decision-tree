{
 "cells": [
  {
   "cell_type": "code",
   "execution_count": 2,
   "id": "8290c837-0e3a-440d-b070-75dd24e629a7",
   "metadata": {},
   "outputs": [],
   "source": [
    "import graphviz\n",
    "import pandas as pd\n",
    "import sys"
   ]
  },
  {
   "cell_type": "code",
   "execution_count": 3,
   "id": "7fcc979c-ff07-4347-b428-aeb290c33ab6",
   "metadata": {},
   "outputs": [],
   "source": [
    "sys.path.append('src')\n",
    "from tree import DecisionTree  # this is a custom library lol"
   ]
  },
  {
   "cell_type": "code",
   "execution_count": 4,
   "id": "2ea96495-f27d-4527-936d-7359ded240f0",
   "metadata": {},
   "outputs": [
    {
     "data": {
      "text/html": [
       "<div>\n",
       "<style scoped>\n",
       "    .dataframe tbody tr th:only-of-type {\n",
       "        vertical-align: middle;\n",
       "    }\n",
       "\n",
       "    .dataframe tbody tr th {\n",
       "        vertical-align: top;\n",
       "    }\n",
       "\n",
       "    .dataframe thead th {\n",
       "        text-align: right;\n",
       "    }\n",
       "</style>\n",
       "<table border=\"1\" class=\"dataframe\">\n",
       "  <thead>\n",
       "    <tr style=\"text-align: right;\">\n",
       "      <th></th>\n",
       "      <th>weight</th>\n",
       "      <th>height</th>\n",
       "      <th>tail_length</th>\n",
       "      <th>body_length</th>\n",
       "      <th>sex</th>\n",
       "      <th>age</th>\n",
       "    </tr>\n",
       "  </thead>\n",
       "  <tbody>\n",
       "    <tr>\n",
       "      <th>0</th>\n",
       "      <td>220</td>\n",
       "      <td>90</td>\n",
       "      <td>100</td>\n",
       "      <td>180</td>\n",
       "      <td>M</td>\n",
       "      <td>5</td>\n",
       "    </tr>\n",
       "    <tr>\n",
       "      <th>1</th>\n",
       "      <td>180</td>\n",
       "      <td>85</td>\n",
       "      <td>95</td>\n",
       "      <td>170</td>\n",
       "      <td>F</td>\n",
       "      <td>4</td>\n",
       "    </tr>\n",
       "    <tr>\n",
       "      <th>2</th>\n",
       "      <td>250</td>\n",
       "      <td>100</td>\n",
       "      <td>105</td>\n",
       "      <td>200</td>\n",
       "      <td>M</td>\n",
       "      <td>6</td>\n",
       "    </tr>\n",
       "    <tr>\n",
       "      <th>3</th>\n",
       "      <td>190</td>\n",
       "      <td>88</td>\n",
       "      <td>98</td>\n",
       "      <td>175</td>\n",
       "      <td>F</td>\n",
       "      <td>4</td>\n",
       "    </tr>\n",
       "    <tr>\n",
       "      <th>4</th>\n",
       "      <td>300</td>\n",
       "      <td>110</td>\n",
       "      <td>120</td>\n",
       "      <td>210</td>\n",
       "      <td>M</td>\n",
       "      <td>7</td>\n",
       "    </tr>\n",
       "  </tbody>\n",
       "</table>\n",
       "</div>"
      ],
      "text/plain": [
       "   weight  height  tail_length  body_length sex  age\n",
       "0     220      90          100          180   M    5\n",
       "1     180      85           95          170   F    4\n",
       "2     250     100          105          200   M    6\n",
       "3     190      88           98          175   F    4\n",
       "4     300     110          120          210   M    7"
      ]
     },
     "execution_count": 4,
     "metadata": {},
     "output_type": "execute_result"
    }
   ],
   "source": [
    "df = pd.read_csv(\"data/tiger_data.csv\")\n",
    "df.head()"
   ]
  },
  {
   "cell_type": "code",
   "execution_count": 5,
   "id": "d1f0d157-22d5-40f4-b986-844cebe9a1ed",
   "metadata": {},
   "outputs": [],
   "source": [
    "df[\"sex\"] = df['sex'].map({'M': 0, 'F': 1})  # 0 means male tigers and 1 means female"
   ]
  },
  {
   "cell_type": "code",
   "execution_count": 6,
   "id": "95744dc1-23c0-444b-9a1e-b0c53c084005",
   "metadata": {},
   "outputs": [
    {
     "data": {
      "text/html": [
       "<div>\n",
       "<style scoped>\n",
       "    .dataframe tbody tr th:only-of-type {\n",
       "        vertical-align: middle;\n",
       "    }\n",
       "\n",
       "    .dataframe tbody tr th {\n",
       "        vertical-align: top;\n",
       "    }\n",
       "\n",
       "    .dataframe thead th {\n",
       "        text-align: right;\n",
       "    }\n",
       "</style>\n",
       "<table border=\"1\" class=\"dataframe\">\n",
       "  <thead>\n",
       "    <tr style=\"text-align: right;\">\n",
       "      <th></th>\n",
       "      <th>weight</th>\n",
       "      <th>height</th>\n",
       "      <th>tail_length</th>\n",
       "      <th>body_length</th>\n",
       "      <th>sex</th>\n",
       "      <th>age</th>\n",
       "    </tr>\n",
       "  </thead>\n",
       "  <tbody>\n",
       "    <tr>\n",
       "      <th>0</th>\n",
       "      <td>220</td>\n",
       "      <td>90</td>\n",
       "      <td>100</td>\n",
       "      <td>180</td>\n",
       "      <td>0</td>\n",
       "      <td>5</td>\n",
       "    </tr>\n",
       "    <tr>\n",
       "      <th>1</th>\n",
       "      <td>180</td>\n",
       "      <td>85</td>\n",
       "      <td>95</td>\n",
       "      <td>170</td>\n",
       "      <td>1</td>\n",
       "      <td>4</td>\n",
       "    </tr>\n",
       "    <tr>\n",
       "      <th>2</th>\n",
       "      <td>250</td>\n",
       "      <td>100</td>\n",
       "      <td>105</td>\n",
       "      <td>200</td>\n",
       "      <td>0</td>\n",
       "      <td>6</td>\n",
       "    </tr>\n",
       "    <tr>\n",
       "      <th>3</th>\n",
       "      <td>190</td>\n",
       "      <td>88</td>\n",
       "      <td>98</td>\n",
       "      <td>175</td>\n",
       "      <td>1</td>\n",
       "      <td>4</td>\n",
       "    </tr>\n",
       "    <tr>\n",
       "      <th>4</th>\n",
       "      <td>300</td>\n",
       "      <td>110</td>\n",
       "      <td>120</td>\n",
       "      <td>210</td>\n",
       "      <td>0</td>\n",
       "      <td>7</td>\n",
       "    </tr>\n",
       "  </tbody>\n",
       "</table>\n",
       "</div>"
      ],
      "text/plain": [
       "   weight  height  tail_length  body_length  sex  age\n",
       "0     220      90          100          180    0    5\n",
       "1     180      85           95          170    1    4\n",
       "2     250     100          105          200    0    6\n",
       "3     190      88           98          175    1    4\n",
       "4     300     110          120          210    0    7"
      ]
     },
     "execution_count": 6,
     "metadata": {},
     "output_type": "execute_result"
    }
   ],
   "source": [
    "df.head()"
   ]
  },
  {
   "cell_type": "code",
   "execution_count": 7,
   "id": "a40e97b1-4e9c-44f6-ac0f-d8548676a144",
   "metadata": {},
   "outputs": [
    {
     "data": {
      "text/plain": [
       "array([5, 4, 6, 4, 7, 3, 6, 5, 5, 3])"
      ]
     },
     "execution_count": 7,
     "metadata": {},
     "output_type": "execute_result"
    }
   ],
   "source": [
    "X = df.drop(columns=\"age\").values\n",
    "y = df[\"age\"].values\n",
    "y"
   ]
  },
  {
   "cell_type": "code",
   "execution_count": 8,
   "id": "1593c74e-a62c-40f9-b398-4dce45149e81",
   "metadata": {},
   "outputs": [],
   "source": [
    "tree = DecisionTree(max_depth=3)\n",
    "tree.fit(X,y)"
   ]
  },
  {
   "cell_type": "code",
   "execution_count": 9,
   "id": "c8348782-691f-4703-81c4-a4ca315740e8",
   "metadata": {},
   "outputs": [
    {
     "name": "stdout",
     "output_type": "stream",
     "text": [
      "Predicting for: [300, 100, 85, 200, 1]\n",
      "Result: 7\n",
      "Predicted Age: 7\n"
     ]
    }
   ],
   "source": [
    "new_tiger = [[300, 100, 85, 200, 1]]\n",
    "print(\"Predicted Age:\", tree.predict(new_tiger)[0])\n"
   ]
  },
  {
   "cell_type": "code",
   "execution_count": 10,
   "id": "3d8dbb9f-06ca-4f7a-b7ef-4361a8993668",
   "metadata": {},
   "outputs": [
    {
     "name": "stdout",
     "output_type": "stream",
     "text": [
      "Predicting for: [400, 100, 85, 200, 1]\n",
      "Result: 7\n",
      "Predicted Age: 7\n"
     ]
    }
   ],
   "source": [
    "new_tiger = [[400, 100, 85, 200, 1]]\n",
    "print(\"Predicted Age:\", tree.predict(new_tiger)[0])"
   ]
  },
  {
   "cell_type": "code",
   "execution_count": null,
   "id": "ae2ae5f5-dd35-4fc7-99b7-b2221621a215",
   "metadata": {},
   "outputs": [],
   "source": []
  }
 ],
 "metadata": {
  "kernelspec": {
   "display_name": "Python 3",
   "language": "python",
   "name": "python3"
  },
  "language_info": {
   "codemirror_mode": {
    "name": "ipython",
    "version": 3
   },
   "file_extension": ".py",
   "mimetype": "text/x-python",
   "name": "python",
   "nbconvert_exporter": "python",
   "pygments_lexer": "ipython3",
   "version": "3.10.11"
  }
 },
 "nbformat": 4,
 "nbformat_minor": 5
}
